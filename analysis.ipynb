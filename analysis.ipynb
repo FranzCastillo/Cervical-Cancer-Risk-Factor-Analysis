{
 "cells": [
  {
   "cell_type": "markdown",
   "id": "b2fb4f89e6485fa3",
   "metadata": {},
   "source": [
    "# Análisis de los Factores de Riesgo del Cáncer Cervical"
   ]
  },
  {
   "cell_type": "markdown",
   "id": "c4385dad7ff0cf93",
   "metadata": {},
   "source": [
    "Librerías"
   ]
  },
  {
   "cell_type": "code",
   "id": "e32817c12f4e6470",
   "metadata": {
    "ExecuteTime": {
     "end_time": "2024-07-20T22:49:38.270630Z",
     "start_time": "2024-07-20T22:49:35.558155Z"
    }
   },
   "source": [
    "from ucimlrepo import fetch_ucirepo\n",
    "import pandas as pd\n",
    "import numpy as np\n",
    "import matplotlib.pyplot as plt\n",
    "import seaborn as sns\n",
    "from ydata_profiling import ProfileReport"
   ],
   "outputs": [],
   "execution_count": 1
  },
  {
   "cell_type": "code",
   "id": "initial_id",
   "metadata": {
    "collapsed": true,
    "jupyter": {
     "outputs_hidden": true
    },
    "ExecuteTime": {
     "end_time": "2024-07-20T22:49:40.177711Z",
     "start_time": "2024-07-20T22:49:38.272670Z"
    }
   },
   "source": [
    "cervical_cancer_risk_factors = fetch_ucirepo(id=383)\n",
    "df: pd.DataFrame = cervical_cancer_risk_factors.data.features"
   ],
   "outputs": [],
   "execution_count": 2
  },
  {
   "cell_type": "markdown",
   "id": "5dc20303b251943a",
   "metadata": {},
   "source": [
    "## Análisis Exploratorio de Datos"
   ]
  },
  {
   "cell_type": "code",
   "id": "6a5f38225dde2254",
   "metadata": {
    "ExecuteTime": {
     "end_time": "2024-07-20T22:49:40.211627Z",
     "start_time": "2024-07-20T22:49:40.179765Z"
    }
   },
   "source": [
    "df"
   ],
   "outputs": [
    {
     "data": {
      "text/plain": [
       "     Age  Number of sexual partners  First sexual intercourse  \\\n",
       "0     18                        4.0                      15.0   \n",
       "1     15                        1.0                      14.0   \n",
       "2     34                        1.0                       NaN   \n",
       "3     52                        5.0                      16.0   \n",
       "4     46                        3.0                      21.0   \n",
       "..   ...                        ...                       ...   \n",
       "853   34                        3.0                      18.0   \n",
       "854   32                        2.0                      19.0   \n",
       "855   25                        2.0                      17.0   \n",
       "856   33                        2.0                      24.0   \n",
       "857   29                        2.0                      20.0   \n",
       "\n",
       "     Num of pregnancies  Smokes  Smokes (years)  Smokes (packs/year)  \\\n",
       "0                   1.0     0.0             0.0                  0.0   \n",
       "1                   1.0     0.0             0.0                  0.0   \n",
       "2                   1.0     0.0             0.0                  0.0   \n",
       "3                   4.0     1.0            37.0                 37.0   \n",
       "4                   4.0     0.0             0.0                  0.0   \n",
       "..                  ...     ...             ...                  ...   \n",
       "853                 0.0     0.0             0.0                  0.0   \n",
       "854                 1.0     0.0             0.0                  0.0   \n",
       "855                 0.0     0.0             0.0                  0.0   \n",
       "856                 2.0     0.0             0.0                  0.0   \n",
       "857                 1.0     0.0             0.0                  0.0   \n",
       "\n",
       "     Hormonal Contraceptives  Hormonal Contraceptives (years)  IUD  ...  \\\n",
       "0                        0.0                             0.00  0.0  ...   \n",
       "1                        0.0                             0.00  0.0  ...   \n",
       "2                        0.0                             0.00  0.0  ...   \n",
       "3                        1.0                             3.00  0.0  ...   \n",
       "4                        1.0                            15.00  0.0  ...   \n",
       "..                       ...                              ...  ...  ...   \n",
       "853                      0.0                             0.00  0.0  ...   \n",
       "854                      1.0                             8.00  0.0  ...   \n",
       "855                      1.0                             0.08  0.0  ...   \n",
       "856                      1.0                             0.08  0.0  ...   \n",
       "857                      1.0                             0.50  0.0  ...   \n",
       "\n",
       "     STDs: Time since first diagnosis  STDs: Time since last diagnosis  \\\n",
       "0                                 NaN                              NaN   \n",
       "1                                 NaN                              NaN   \n",
       "2                                 NaN                              NaN   \n",
       "3                                 NaN                              NaN   \n",
       "4                                 NaN                              NaN   \n",
       "..                                ...                              ...   \n",
       "853                               NaN                              NaN   \n",
       "854                               NaN                              NaN   \n",
       "855                               NaN                              NaN   \n",
       "856                               NaN                              NaN   \n",
       "857                               NaN                              NaN   \n",
       "\n",
       "     Dx:Cancer  Dx:CIN  Dx:HPV  Dx  Hinselmann  Schiller  Citology  Biopsy  \n",
       "0            0       0       0   0           0         0         0       0  \n",
       "1            0       0       0   0           0         0         0       0  \n",
       "2            0       0       0   0           0         0         0       0  \n",
       "3            1       0       1   0           0         0         0       0  \n",
       "4            0       0       0   0           0         0         0       0  \n",
       "..         ...     ...     ...  ..         ...       ...       ...     ...  \n",
       "853          0       0       0   0           0         0         0       0  \n",
       "854          0       0       0   0           0         0         0       0  \n",
       "855          0       0       0   0           0         0         1       0  \n",
       "856          0       0       0   0           0         0         0       0  \n",
       "857          0       0       0   0           0         0         0       0  \n",
       "\n",
       "[858 rows x 36 columns]"
      ],
      "text/html": [
       "<div>\n",
       "<style scoped>\n",
       "    .dataframe tbody tr th:only-of-type {\n",
       "        vertical-align: middle;\n",
       "    }\n",
       "\n",
       "    .dataframe tbody tr th {\n",
       "        vertical-align: top;\n",
       "    }\n",
       "\n",
       "    .dataframe thead th {\n",
       "        text-align: right;\n",
       "    }\n",
       "</style>\n",
       "<table border=\"1\" class=\"dataframe\">\n",
       "  <thead>\n",
       "    <tr style=\"text-align: right;\">\n",
       "      <th></th>\n",
       "      <th>Age</th>\n",
       "      <th>Number of sexual partners</th>\n",
       "      <th>First sexual intercourse</th>\n",
       "      <th>Num of pregnancies</th>\n",
       "      <th>Smokes</th>\n",
       "      <th>Smokes (years)</th>\n",
       "      <th>Smokes (packs/year)</th>\n",
       "      <th>Hormonal Contraceptives</th>\n",
       "      <th>Hormonal Contraceptives (years)</th>\n",
       "      <th>IUD</th>\n",
       "      <th>...</th>\n",
       "      <th>STDs: Time since first diagnosis</th>\n",
       "      <th>STDs: Time since last diagnosis</th>\n",
       "      <th>Dx:Cancer</th>\n",
       "      <th>Dx:CIN</th>\n",
       "      <th>Dx:HPV</th>\n",
       "      <th>Dx</th>\n",
       "      <th>Hinselmann</th>\n",
       "      <th>Schiller</th>\n",
       "      <th>Citology</th>\n",
       "      <th>Biopsy</th>\n",
       "    </tr>\n",
       "  </thead>\n",
       "  <tbody>\n",
       "    <tr>\n",
       "      <th>0</th>\n",
       "      <td>18</td>\n",
       "      <td>4.0</td>\n",
       "      <td>15.0</td>\n",
       "      <td>1.0</td>\n",
       "      <td>0.0</td>\n",
       "      <td>0.0</td>\n",
       "      <td>0.0</td>\n",
       "      <td>0.0</td>\n",
       "      <td>0.00</td>\n",
       "      <td>0.0</td>\n",
       "      <td>...</td>\n",
       "      <td>NaN</td>\n",
       "      <td>NaN</td>\n",
       "      <td>0</td>\n",
       "      <td>0</td>\n",
       "      <td>0</td>\n",
       "      <td>0</td>\n",
       "      <td>0</td>\n",
       "      <td>0</td>\n",
       "      <td>0</td>\n",
       "      <td>0</td>\n",
       "    </tr>\n",
       "    <tr>\n",
       "      <th>1</th>\n",
       "      <td>15</td>\n",
       "      <td>1.0</td>\n",
       "      <td>14.0</td>\n",
       "      <td>1.0</td>\n",
       "      <td>0.0</td>\n",
       "      <td>0.0</td>\n",
       "      <td>0.0</td>\n",
       "      <td>0.0</td>\n",
       "      <td>0.00</td>\n",
       "      <td>0.0</td>\n",
       "      <td>...</td>\n",
       "      <td>NaN</td>\n",
       "      <td>NaN</td>\n",
       "      <td>0</td>\n",
       "      <td>0</td>\n",
       "      <td>0</td>\n",
       "      <td>0</td>\n",
       "      <td>0</td>\n",
       "      <td>0</td>\n",
       "      <td>0</td>\n",
       "      <td>0</td>\n",
       "    </tr>\n",
       "    <tr>\n",
       "      <th>2</th>\n",
       "      <td>34</td>\n",
       "      <td>1.0</td>\n",
       "      <td>NaN</td>\n",
       "      <td>1.0</td>\n",
       "      <td>0.0</td>\n",
       "      <td>0.0</td>\n",
       "      <td>0.0</td>\n",
       "      <td>0.0</td>\n",
       "      <td>0.00</td>\n",
       "      <td>0.0</td>\n",
       "      <td>...</td>\n",
       "      <td>NaN</td>\n",
       "      <td>NaN</td>\n",
       "      <td>0</td>\n",
       "      <td>0</td>\n",
       "      <td>0</td>\n",
       "      <td>0</td>\n",
       "      <td>0</td>\n",
       "      <td>0</td>\n",
       "      <td>0</td>\n",
       "      <td>0</td>\n",
       "    </tr>\n",
       "    <tr>\n",
       "      <th>3</th>\n",
       "      <td>52</td>\n",
       "      <td>5.0</td>\n",
       "      <td>16.0</td>\n",
       "      <td>4.0</td>\n",
       "      <td>1.0</td>\n",
       "      <td>37.0</td>\n",
       "      <td>37.0</td>\n",
       "      <td>1.0</td>\n",
       "      <td>3.00</td>\n",
       "      <td>0.0</td>\n",
       "      <td>...</td>\n",
       "      <td>NaN</td>\n",
       "      <td>NaN</td>\n",
       "      <td>1</td>\n",
       "      <td>0</td>\n",
       "      <td>1</td>\n",
       "      <td>0</td>\n",
       "      <td>0</td>\n",
       "      <td>0</td>\n",
       "      <td>0</td>\n",
       "      <td>0</td>\n",
       "    </tr>\n",
       "    <tr>\n",
       "      <th>4</th>\n",
       "      <td>46</td>\n",
       "      <td>3.0</td>\n",
       "      <td>21.0</td>\n",
       "      <td>4.0</td>\n",
       "      <td>0.0</td>\n",
       "      <td>0.0</td>\n",
       "      <td>0.0</td>\n",
       "      <td>1.0</td>\n",
       "      <td>15.00</td>\n",
       "      <td>0.0</td>\n",
       "      <td>...</td>\n",
       "      <td>NaN</td>\n",
       "      <td>NaN</td>\n",
       "      <td>0</td>\n",
       "      <td>0</td>\n",
       "      <td>0</td>\n",
       "      <td>0</td>\n",
       "      <td>0</td>\n",
       "      <td>0</td>\n",
       "      <td>0</td>\n",
       "      <td>0</td>\n",
       "    </tr>\n",
       "    <tr>\n",
       "      <th>...</th>\n",
       "      <td>...</td>\n",
       "      <td>...</td>\n",
       "      <td>...</td>\n",
       "      <td>...</td>\n",
       "      <td>...</td>\n",
       "      <td>...</td>\n",
       "      <td>...</td>\n",
       "      <td>...</td>\n",
       "      <td>...</td>\n",
       "      <td>...</td>\n",
       "      <td>...</td>\n",
       "      <td>...</td>\n",
       "      <td>...</td>\n",
       "      <td>...</td>\n",
       "      <td>...</td>\n",
       "      <td>...</td>\n",
       "      <td>...</td>\n",
       "      <td>...</td>\n",
       "      <td>...</td>\n",
       "      <td>...</td>\n",
       "      <td>...</td>\n",
       "    </tr>\n",
       "    <tr>\n",
       "      <th>853</th>\n",
       "      <td>34</td>\n",
       "      <td>3.0</td>\n",
       "      <td>18.0</td>\n",
       "      <td>0.0</td>\n",
       "      <td>0.0</td>\n",
       "      <td>0.0</td>\n",
       "      <td>0.0</td>\n",
       "      <td>0.0</td>\n",
       "      <td>0.00</td>\n",
       "      <td>0.0</td>\n",
       "      <td>...</td>\n",
       "      <td>NaN</td>\n",
       "      <td>NaN</td>\n",
       "      <td>0</td>\n",
       "      <td>0</td>\n",
       "      <td>0</td>\n",
       "      <td>0</td>\n",
       "      <td>0</td>\n",
       "      <td>0</td>\n",
       "      <td>0</td>\n",
       "      <td>0</td>\n",
       "    </tr>\n",
       "    <tr>\n",
       "      <th>854</th>\n",
       "      <td>32</td>\n",
       "      <td>2.0</td>\n",
       "      <td>19.0</td>\n",
       "      <td>1.0</td>\n",
       "      <td>0.0</td>\n",
       "      <td>0.0</td>\n",
       "      <td>0.0</td>\n",
       "      <td>1.0</td>\n",
       "      <td>8.00</td>\n",
       "      <td>0.0</td>\n",
       "      <td>...</td>\n",
       "      <td>NaN</td>\n",
       "      <td>NaN</td>\n",
       "      <td>0</td>\n",
       "      <td>0</td>\n",
       "      <td>0</td>\n",
       "      <td>0</td>\n",
       "      <td>0</td>\n",
       "      <td>0</td>\n",
       "      <td>0</td>\n",
       "      <td>0</td>\n",
       "    </tr>\n",
       "    <tr>\n",
       "      <th>855</th>\n",
       "      <td>25</td>\n",
       "      <td>2.0</td>\n",
       "      <td>17.0</td>\n",
       "      <td>0.0</td>\n",
       "      <td>0.0</td>\n",
       "      <td>0.0</td>\n",
       "      <td>0.0</td>\n",
       "      <td>1.0</td>\n",
       "      <td>0.08</td>\n",
       "      <td>0.0</td>\n",
       "      <td>...</td>\n",
       "      <td>NaN</td>\n",
       "      <td>NaN</td>\n",
       "      <td>0</td>\n",
       "      <td>0</td>\n",
       "      <td>0</td>\n",
       "      <td>0</td>\n",
       "      <td>0</td>\n",
       "      <td>0</td>\n",
       "      <td>1</td>\n",
       "      <td>0</td>\n",
       "    </tr>\n",
       "    <tr>\n",
       "      <th>856</th>\n",
       "      <td>33</td>\n",
       "      <td>2.0</td>\n",
       "      <td>24.0</td>\n",
       "      <td>2.0</td>\n",
       "      <td>0.0</td>\n",
       "      <td>0.0</td>\n",
       "      <td>0.0</td>\n",
       "      <td>1.0</td>\n",
       "      <td>0.08</td>\n",
       "      <td>0.0</td>\n",
       "      <td>...</td>\n",
       "      <td>NaN</td>\n",
       "      <td>NaN</td>\n",
       "      <td>0</td>\n",
       "      <td>0</td>\n",
       "      <td>0</td>\n",
       "      <td>0</td>\n",
       "      <td>0</td>\n",
       "      <td>0</td>\n",
       "      <td>0</td>\n",
       "      <td>0</td>\n",
       "    </tr>\n",
       "    <tr>\n",
       "      <th>857</th>\n",
       "      <td>29</td>\n",
       "      <td>2.0</td>\n",
       "      <td>20.0</td>\n",
       "      <td>1.0</td>\n",
       "      <td>0.0</td>\n",
       "      <td>0.0</td>\n",
       "      <td>0.0</td>\n",
       "      <td>1.0</td>\n",
       "      <td>0.50</td>\n",
       "      <td>0.0</td>\n",
       "      <td>...</td>\n",
       "      <td>NaN</td>\n",
       "      <td>NaN</td>\n",
       "      <td>0</td>\n",
       "      <td>0</td>\n",
       "      <td>0</td>\n",
       "      <td>0</td>\n",
       "      <td>0</td>\n",
       "      <td>0</td>\n",
       "      <td>0</td>\n",
       "      <td>0</td>\n",
       "    </tr>\n",
       "  </tbody>\n",
       "</table>\n",
       "<p>858 rows × 36 columns</p>\n",
       "</div>"
      ]
     },
     "execution_count": 3,
     "metadata": {},
     "output_type": "execute_result"
    }
   ],
   "execution_count": 3
  },
  {
   "cell_type": "code",
   "id": "70068ca5cbe9943d",
   "metadata": {
    "ExecuteTime": {
     "end_time": "2024-07-20T22:49:40.216949Z",
     "start_time": "2024-07-20T22:49:40.212679Z"
    }
   },
   "source": [
    "# profile = ProfileReport(df, title=\"Cervical Cancer Risk Factors Report\")\n",
    "# profile.to_notebook_iframe()\n",
    "# profile.to_file(\"report/report.html\")"
   ],
   "outputs": [],
   "execution_count": 4
  },
  {
   "cell_type": "markdown",
   "id": "ee45da50792a680d",
   "metadata": {},
   "source": [
    "### 1. Conclusiones del EDA\n",
    "Con el análisis exploratorio, podemos concluir que:\n",
    "1. **Hay 36 variables:** 10 son numéricas y 26 son categóricas\n",
    "2. **Hay pocas celdas con valores faltantes:** Los valores faltantes se presentan en *features* categóricos de verdadero/falso. Pueden ser imputados con la moda.\n",
    "3. **Hay columnas con un valor constate:** Particularmente ``STDs:cervical condylomatosis`` y ``STDs:AIDS`` tienen valores de 0 en todas las observaciones, por lo que pueden ser eliminadas.\n",
    "4. **Alta correlación:** Existen *features* que tienen alta correlación\n",
    "5. **Desbalance de datos:** Los *features* tienen mucho desbalance de clases.\n",
    "6. **Datos atípicos:** La cantidad de datos atípicos es muy baja, por lo que podemos eliminar esas observaciones."
   ]
  },
  {
   "cell_type": "markdown",
   "id": "b89ece54",
   "metadata": {},
   "source": [
    "### 2. Descripción de variables\n",
    "- **Age** (Edad de la paciente): Cuantitativa (continua)\n",
    "- **Number.of.sexual.partners** (Cantidad de parejas sexuales): Cuantitativa (discreta)\n",
    "- **First.sexual.intercourse** (Edad del primer encuentro sexual): Cuantitativa (discreta)\n",
    "- **Num.of.pregnancies** (Cantidad de embarazos): Cuantitativa (discreta)\n",
    "- **Smokes** (Si fuma o no): Categórica (Nominal)\n",
    "- **Smokes.years** (Años que lleva fumando): Cuantitativa (continua)\n",
    "- **Smokes.packs.per.year** (Cajetillas de cigarrillos por año): Cuantitativa (continua)\n",
    "- **Hormonal.Contraceptives** (Si usa anticonceptivos hormonales o no): Categórica (Nominal)\n",
    "- **Hormonal.Contraceptives.years** (Años usando anticonceptivos hormonales): Cuantitativa (continua)\n",
    "- **IUD** (Si tiene colocado algún dispositivo intrauterino): Categórica (Nominal)\n",
    "- **IUD.years** (Años usando un DIU): Cuantitativa (continua)\n",
    "- **STDs** (Si ha tenido enfermedades de transmisión sexual): Categórica (Nominal)\n",
    "- **STDs.number** (Cuantas ETS ha tenido): Cuantitativa (discreta)\n",
    "- **STDs.condylomatosis** (Si ha tenido condilomatosis): Categórica (Nominal)\n",
    "- **STDs.cervical.condylomatosis** (Si ha tenido condilomatosis cervical): Categórica (Nominal)\n",
    "- **STDs.vaginal.condylomatosis** (Si ha tenido condilomatosis vaginal): Categórica (Nominal)\n",
    "- **STDs.vulvo.perineal.condylomatosis** (Si ha tenido condilomatosis vulvo perineal): Categórica (Nominal)\n",
    "- **STDs.syphilis** (Si ha tenido Sífilis): Categórica (Nominal)\n",
    "- **STDs.pelvic.inflammatory.disease** (Si ha tenido inflamaciones pélvicas): Categórica (Nominal)\n",
    "- **STDs.genital.herpes** (Si ha tenido herpes genital): Categórica (Nominal)\n",
    "- **STDs.molluscum.contagiosum** (Si ha tenido molusco contagioso): Categórica (Nominal)\n",
    "- **STDs.AIDS** (Si tiene SIDA): Categórica (Nominal)\n",
    "- **STDs.HIV** (Si tiene VIH): Categórica (Nominal)\n",
    "- **STDs.Hepatitis.B** (Si ha tenido o tiene hepatitis B): Categórica (Nominal)\n",
    "- **STDs.HPV** (Si ha tenido o tiene Virus del Papiloma Humano): Categórica (Nominal)\n",
    "- **STDs.Number.of.diagnosis** (Cantidad de diagnósticos de ETS): Cuantitativa (discreta)\n",
    "- **STDs.Time.since.first.diagnosis** (Tiempo desde el primer diagnóstico): Cuantitativa (continua)\n",
    "- **STDs.Time.since.last.diagnosis** (Tiempo desde el último diagnóstico): Cuantitativa (continua)\n",
    "- **Dx.Cancer (Si tiene diagnóstico** de cáncer o no): Categórica (Nominal)\n",
    "- **Dx.CIN** (Si tiene diagnóstico de NIC): Categórica (Nominal)\n",
    "- **Dx.HPV** (Si tiene diagnóstico de Virus del Papiloma Humano): Categórica (Nominal)\n",
    "- **Dx** (Si tiene algún diagnóstico): Categórica (Nominal)\n",
    "- **Hinselmann** (Si hicieron Colposcopía): Categórica (Nominal)\n",
    "- **Schiller** (Si hicieron la prueba de Schiller): Categórica (Nominal)\n",
    "- **Citology** (Si hicieron citología): Categórica (Nominal)\n",
    "- **Biopsy** (Si hicieron Biopsia): Categórica (Nominal)"
   ]
  },
  {
   "cell_type": "markdown",
   "id": "cf52fffb7dbce881",
   "metadata": {},
   "source": [
    "### 3. Gráficos Exploratorios\n",
    "Para este paso ha sido útil la utiliación de ``ydata_profiling``. Para poder ver los gráficos exploratorios abra en un navegador el [archivo HTML](report/report.html). Luego, en el menú de navegación visite la opción llamada ``Variables``"
   ]
  },
  {
   "cell_type": "markdown",
   "id": "784d7840dd5db17b",
   "metadata": {},
   "source": [
    "### 4. Análisis de variables"
   ]
  },
  {
   "cell_type": "markdown",
   "id": "c65de716af83df4e",
   "metadata": {},
   "source": "#### 4.1 Limpieza de datos"
  },
  {
   "metadata": {},
   "cell_type": "markdown",
   "source": [
    "##### 4.1.1 Eliminación de columnas constantes\n",
    "``STDs:cervical condylomatosis`` y ``STDs:AIDS`` tienen valores constantes de 0, por lo que se eliminarán.\n",
    "\n",
    "``STDs:vaginal condylomatosis``, ``STDs:pelvic inflammatory disease``, ``STDs:genital herpes``, ``STDs:molluscum contagiosum``, ``STDs:Hepatitis B`` y ``STDs:HPV`` tienen un desbalance total de clases, donde la clase minoritaría tiene < 5 muestras. Por lo que se eliminarán."
   ],
   "id": "74ca4f5668d427ac"
  },
  {
   "metadata": {
    "ExecuteTime": {
     "end_time": "2024-07-20T22:49:40.230658Z",
     "start_time": "2024-07-20T22:49:40.217979Z"
    }
   },
   "cell_type": "code",
   "source": [
    "to_drop = ['STDs:cervical condylomatosis', 'STDs:AIDS', 'STDs:vaginal condylomatosis', 'STDs:pelvic inflammatory disease', 'STDs:genital herpes', 'STDs:molluscum contagiosum', 'STDs:Hepatitis B', 'STDs:HPV']\n",
    "\n",
    "df.drop(to_drop, axis=1, inplace=True)"
   ],
   "id": "b6f72594360dde2a",
   "outputs": [],
   "execution_count": 5
  },
  {
   "metadata": {},
   "cell_type": "markdown",
   "source": "##### 4.1.2 Manejo de Datos Faltantes",
   "id": "50a0f7af192bffc6"
  },
  {
   "metadata": {
    "ExecuteTime": {
     "end_time": "2024-07-20T22:49:40.707776Z",
     "start_time": "2024-07-20T22:49:40.232673Z"
    }
   },
   "cell_type": "code",
   "source": "from sklearn.impute import SimpleImputer",
   "id": "99f7e5f919567f6b",
   "outputs": [],
   "execution_count": 6
  },
  {
   "metadata": {},
   "cell_type": "markdown",
   "source": "``Number of sexual partners``, ``Num of Pregnancies``, ``Smokes``, ``Smokes (years)``, ``Smokes (packs/year)`` les hacen falta valores, pero la cantidad no es significante, por lo que se eliminarán las observaciones con valores faltantes.",
   "id": "2446b1ce62f557d8"
  },
  {
   "metadata": {
    "ExecuteTime": {
     "end_time": "2024-07-20T22:49:40.717836Z",
     "start_time": "2024-07-20T22:49:40.709781Z"
    }
   },
   "cell_type": "code",
   "source": [
    "to_drop = ['Number of sexual partners', 'Num of pregnancies', 'Smokes', 'Smokes (years)', 'Smokes (packs/year)']\n",
    "\n",
    "df.dropna(subset=to_drop, inplace=True)"
   ],
   "id": "42251666714ffa71",
   "outputs": [],
   "execution_count": 7
  },
  {
   "metadata": {},
   "cell_type": "markdown",
   "source": "``STDs: Time since first diagnosis`` y ``STDs: Time since last diagnosis`` tienen, prácticamente todos los valores faltantes (91.7%), por lo que este *feature* se eliminará.",
   "id": "9650f3f4d598e934"
  },
  {
   "metadata": {
    "ExecuteTime": {
     "end_time": "2024-07-20T22:49:40.730858Z",
     "start_time": "2024-07-20T22:49:40.719858Z"
    }
   },
   "cell_type": "code",
   "source": [
    "to_drop = ['STDs: Time since first diagnosis', 'STDs: Time since last diagnosis']\n",
    "\n",
    "df.drop(to_drop, axis=1, inplace=True)"
   ],
   "id": "792cb6eec35ecb60",
   "outputs": [],
   "execution_count": 8
  },
  {
   "metadata": {},
   "cell_type": "markdown",
   "source": "El resto de variables tienen alrededor de 100 valores faltantes, por lo que se imputarán con la moda. Esto provocará que las variables categóricas tengan valores faltantes imputados con ``False`` y, donde se tiene *(years)* se imputará con ``0``. ",
   "id": "a0f659ea0270bfe7"
  },
  {
   "metadata": {
    "ExecuteTime": {
     "end_time": "2024-07-20T22:49:40.763981Z",
     "start_time": "2024-07-20T22:49:40.733868Z"
    }
   },
   "cell_type": "code",
   "source": [
    "imp = SimpleImputer(strategy='most_frequent')\n",
    "\n",
    "df = pd.DataFrame(imp.fit_transform(df), columns=df.columns)"
   ],
   "id": "4f71b2496d2ce2bd",
   "outputs": [],
   "execution_count": 9
  },
  {
   "metadata": {},
   "cell_type": "markdown",
   "source": "##### 4.1.3 Corrección de tipos de datos",
   "id": "2a8b7a1186048b6b"
  },
  {
   "cell_type": "code",
   "id": "bb5c4657023576ee",
   "metadata": {
    "ExecuteTime": {
     "end_time": "2024-07-20T22:49:40.777440Z",
     "start_time": "2024-07-20T22:49:40.766005Z"
    }
   },
   "source": [
    "categorical_columns = [\n",
    "    'Smokes', 'Hormonal Contraceptives', 'IUD', 'STDs', 'STDs:condylomatosis',\n",
    "    'STDs:vulvo-perineal condylomatosis', \n",
    "    'STDs:syphilis',\n",
    "    'STDs:HIV',\n",
    "    'Dx:Cancer', 'Dx:CIN', 'Dx:HPV', 'Dx',\n",
    "    'Hinselmann', 'Schiller', 'Citology', 'Biopsy'\n",
    "]\n",
    "\n",
    "for column in categorical_columns:\n",
    "    df[column] = df[column].astype('bool')"
   ],
   "outputs": [],
   "execution_count": 10
  },
  {
   "metadata": {
    "ExecuteTime": {
     "end_time": "2024-07-20T22:49:40.788604Z",
     "start_time": "2024-07-20T22:49:40.778524Z"
    }
   },
   "cell_type": "code",
   "source": [
    "integer_columns = [\n",
    "    'Age', 'Number of sexual partners', 'First sexual intercourse',\n",
    "    'Num of pregnancies', 'STDs (number)', 'STDs: Number of diagnosis',\n",
    "]\n",
    "\n",
    "for column in integer_columns:\n",
    "    df[column] = df[column].astype('int')"
   ],
   "id": "d619a09a46ebf056",
   "outputs": [],
   "execution_count": 11
  },
  {
   "metadata": {
    "ExecuteTime": {
     "end_time": "2024-07-20T22:49:40.813442Z",
     "start_time": "2024-07-20T22:49:40.789675Z"
    }
   },
   "cell_type": "code",
   "source": "df.info()",
   "id": "b597713b937e3d64",
   "outputs": [
    {
     "name": "stdout",
     "output_type": "stream",
     "text": [
      "<class 'pandas.core.frame.DataFrame'>\n",
      "RangeIndex: 766 entries, 0 to 765\n",
      "Data columns (total 26 columns):\n",
      " #   Column                              Non-Null Count  Dtype  \n",
      "---  ------                              --------------  -----  \n",
      " 0   Age                                 766 non-null    int32  \n",
      " 1   Number of sexual partners           766 non-null    int32  \n",
      " 2   First sexual intercourse            766 non-null    int32  \n",
      " 3   Num of pregnancies                  766 non-null    int32  \n",
      " 4   Smokes                              766 non-null    bool   \n",
      " 5   Smokes (years)                      766 non-null    float64\n",
      " 6   Smokes (packs/year)                 766 non-null    float64\n",
      " 7   Hormonal Contraceptives             766 non-null    bool   \n",
      " 8   Hormonal Contraceptives (years)     766 non-null    float64\n",
      " 9   IUD                                 766 non-null    bool   \n",
      " 10  IUD (years)                         766 non-null    float64\n",
      " 11  STDs                                766 non-null    bool   \n",
      " 12  STDs (number)                       766 non-null    int32  \n",
      " 13  STDs:condylomatosis                 766 non-null    bool   \n",
      " 14  STDs:vulvo-perineal condylomatosis  766 non-null    bool   \n",
      " 15  STDs:syphilis                       766 non-null    bool   \n",
      " 16  STDs:HIV                            766 non-null    bool   \n",
      " 17  STDs: Number of diagnosis           766 non-null    int32  \n",
      " 18  Dx:Cancer                           766 non-null    bool   \n",
      " 19  Dx:CIN                              766 non-null    bool   \n",
      " 20  Dx:HPV                              766 non-null    bool   \n",
      " 21  Dx                                  766 non-null    bool   \n",
      " 22  Hinselmann                          766 non-null    bool   \n",
      " 23  Schiller                            766 non-null    bool   \n",
      " 24  Citology                            766 non-null    bool   \n",
      " 25  Biopsy                              766 non-null    bool   \n",
      "dtypes: bool(16), float64(4), int32(6)\n",
      "memory usage: 54.0 KB\n"
     ]
    }
   ],
   "execution_count": 12
  },
  {
   "cell_type": "code",
   "id": "6ae90e9f83b71e57",
   "metadata": {
    "ExecuteTime": {
     "end_time": "2024-07-20T22:49:40.827052Z",
     "start_time": "2024-07-20T22:49:40.815452Z"
    }
   },
   "source": [
    "numerical_columns = df.select_dtypes(include=[np.number]).columns\n",
    "numerical_columns"
   ],
   "outputs": [
    {
     "data": {
      "text/plain": [
       "Index(['Age', 'Number of sexual partners', 'First sexual intercourse',\n",
       "       'Num of pregnancies', 'Smokes (years)', 'Smokes (packs/year)',\n",
       "       'Hormonal Contraceptives (years)', 'IUD (years)', 'STDs (number)',\n",
       "       'STDs: Number of diagnosis'],\n",
       "      dtype='object')"
      ]
     },
     "execution_count": 13,
     "metadata": {},
     "output_type": "execute_result"
    }
   ],
   "execution_count": 13
  },
  {
   "metadata": {
    "ExecuteTime": {
     "end_time": "2024-07-20T22:49:40.839693Z",
     "start_time": "2024-07-20T22:49:40.828114Z"
    }
   },
   "cell_type": "code",
   "source": [
    "categorical_columns = df.select_dtypes(include=[bool]).columns\n",
    "categorical_columns"
   ],
   "id": "d93716fcf31c8658",
   "outputs": [
    {
     "data": {
      "text/plain": [
       "Index(['Smokes', 'Hormonal Contraceptives', 'IUD', 'STDs',\n",
       "       'STDs:condylomatosis', 'STDs:vulvo-perineal condylomatosis',\n",
       "       'STDs:syphilis', 'STDs:HIV', 'Dx:Cancer', 'Dx:CIN', 'Dx:HPV', 'Dx',\n",
       "       'Hinselmann', 'Schiller', 'Citology', 'Biopsy'],\n",
       "      dtype='object')"
      ]
     },
     "execution_count": 14,
     "metadata": {},
     "output_type": "execute_result"
    }
   ],
   "execution_count": 14
  },
  {
   "cell_type": "code",
   "id": "2839dfa0d93983b4",
   "metadata": {
    "ExecuteTime": {
     "end_time": "2024-07-20T22:49:40.860764Z",
     "start_time": "2024-07-20T22:49:40.841703Z"
    }
   },
   "source": [
    "df.info()"
   ],
   "outputs": [
    {
     "name": "stdout",
     "output_type": "stream",
     "text": [
      "<class 'pandas.core.frame.DataFrame'>\n",
      "RangeIndex: 766 entries, 0 to 765\n",
      "Data columns (total 26 columns):\n",
      " #   Column                              Non-Null Count  Dtype  \n",
      "---  ------                              --------------  -----  \n",
      " 0   Age                                 766 non-null    int32  \n",
      " 1   Number of sexual partners           766 non-null    int32  \n",
      " 2   First sexual intercourse            766 non-null    int32  \n",
      " 3   Num of pregnancies                  766 non-null    int32  \n",
      " 4   Smokes                              766 non-null    bool   \n",
      " 5   Smokes (years)                      766 non-null    float64\n",
      " 6   Smokes (packs/year)                 766 non-null    float64\n",
      " 7   Hormonal Contraceptives             766 non-null    bool   \n",
      " 8   Hormonal Contraceptives (years)     766 non-null    float64\n",
      " 9   IUD                                 766 non-null    bool   \n",
      " 10  IUD (years)                         766 non-null    float64\n",
      " 11  STDs                                766 non-null    bool   \n",
      " 12  STDs (number)                       766 non-null    int32  \n",
      " 13  STDs:condylomatosis                 766 non-null    bool   \n",
      " 14  STDs:vulvo-perineal condylomatosis  766 non-null    bool   \n",
      " 15  STDs:syphilis                       766 non-null    bool   \n",
      " 16  STDs:HIV                            766 non-null    bool   \n",
      " 17  STDs: Number of diagnosis           766 non-null    int32  \n",
      " 18  Dx:Cancer                           766 non-null    bool   \n",
      " 19  Dx:CIN                              766 non-null    bool   \n",
      " 20  Dx:HPV                              766 non-null    bool   \n",
      " 21  Dx                                  766 non-null    bool   \n",
      " 22  Hinselmann                          766 non-null    bool   \n",
      " 23  Schiller                            766 non-null    bool   \n",
      " 24  Citology                            766 non-null    bool   \n",
      " 25  Biopsy                              766 non-null    bool   \n",
      "dtypes: bool(16), float64(4), int32(6)\n",
      "memory usage: 54.0 KB\n"
     ]
    }
   ],
   "execution_count": 15
  },
  {
   "cell_type": "markdown",
   "id": "75dbb03c52b2b3ae",
   "metadata": {},
   "source": [
    "#### 4.2 Análisis de Correlación\n",
    "Para este paso ha sido útil la utiliación de ``ydata_profiling``. Para poder ver los gráficos exploratorios abra en un navegador el [archivo HTML](report/report.html). Luego, en el menú de navegación visite la opción llamada ``Correlations``."
   ]
  },
  {
   "metadata": {},
   "cell_type": "markdown",
   "source": [
    "#### 4.3 Análisis de Outliers\n",
    "Gracias a las gráficas del reporte, se pueden apreciar algunos valores atípicos en las variables numéricas. Verificaremos y removeremos de manera acorde a los valores atípicos."
   ],
   "id": "fa5838fc6f9737ea"
  },
  {
   "metadata": {
    "ExecuteTime": {
     "end_time": "2024-07-20T22:49:42.841703Z",
     "start_time": "2024-07-20T22:49:40.861840Z"
    }
   },
   "cell_type": "code",
   "source": [
    "fig, axes = plt.subplots(4, 3, figsize=(20, 20))\n",
    "axes = axes.flatten()\n",
    "for i, column in enumerate(numerical_columns):\n",
    "    sns.boxplot(x=df[column], ax=axes[i])\n",
    "plt.tight_layout()\n",
    "plt.show()"
   ],
   "id": "69af6e9e516011e4",
   "outputs": [
    {
     "data": {
      "text/plain": [
       "<Figure size 2000x2000 with 12 Axes>"
      ],
      "image/png": "[encoded data removed]"
     },
     "metadata": {},
     "output_type": "display_data"
    }
   ],
   "execution_count": 16
  },
  {
   "metadata": {},
   "cell_type": "markdown",
   "source": "Podemos observar cómo ``Smokes (years)``, ``Smokes (packs/year)`` y  ``IUD (years)`` están conformados por múltiples outliers. Se ha hecho la prueba con y sin estos *features* y eliminarlos no representa una mejora significativa en el modelo. Para evitar perder información, se mantendrán como se encuentran.",
   "id": "2d9db81f19e76dfa"
  },
  {
   "metadata": {},
   "cell_type": "markdown",
   "source": "Eliminamos los valores atípicos en base a las gráficas de caja y bigotes.",
   "id": "98aec904b94c6ac7"
  },
  {
   "metadata": {
    "ExecuteTime": {
     "end_time": "2024-07-20T22:49:42.855591Z",
     "start_time": "2024-07-20T22:49:42.842721Z"
    }
   },
   "cell_type": "code",
   "source": [
    "df = df[df['Age'] < 51]\n",
    "df = df[df['Number of sexual partners'] < 5]\n",
    "df = df[df['First sexual intercourse'] < 23]\n",
    "df = df[df['STDs (number)'] < 3]\n",
    "df = df[df['STDs: Number of diagnosis'] < 2]"
   ],
   "id": "3e032562372cf4a2",
   "outputs": [],
   "execution_count": 17
  },
  {
   "metadata": {
    "ExecuteTime": {
     "end_time": "2024-07-20T22:49:42.870416Z",
     "start_time": "2024-07-20T22:49:42.856645Z"
    }
   },
   "cell_type": "code",
   "source": "df.shape",
   "id": "16c3d4dcffc402d2",
   "outputs": [
    {
     "data": {
      "text/plain": [
       "(661, 26)"
      ]
     },
     "execution_count": 18,
     "metadata": {},
     "output_type": "execute_result"
    }
   ],
   "execution_count": 18
  },
  {
   "cell_type": "markdown",
   "id": "2a4ecbdb49a924ca",
   "metadata": {},
   "source": [
    "### 5. Análisis de Variables Categóricas"
   ]
  },
  {
   "cell_type": "markdown",
   "id": "a6a10a815dc84d",
   "metadata": {},
   "source": "#### 5.1 Diagramas de Barra"
  },
  {
   "cell_type": "code",
   "id": "6958083a7b218aeb",
   "metadata": {
    "ExecuteTime": {
     "end_time": "2024-07-20T22:49:42.883413Z",
     "start_time": "2024-07-20T22:49:42.872423Z"
    }
   },
   "source": [
    "%matplotlib inline"
   ],
   "outputs": [],
   "execution_count": 19
  },
  {
   "cell_type": "code",
   "id": "acf2d110696364fd",
   "metadata": {
    "ExecuteTime": {
     "end_time": "2024-07-20T22:54:38.614796Z",
     "start_time": "2024-07-20T22:54:36.898867Z"
    }
   },
   "source": [
    "fig, axes = plt.subplots(4, 4, figsize=(20, 20))\n",
    "axes = axes.flatten()\n",
    "for i, column in enumerate(categorical_columns):\n",
    "    df[column].value_counts().plot.bar(ax=axes[i])\n",
    "plt.tight_layout()\n",
    "plt.show()"
   ],
   "outputs": [
    {
     "data": {
      "text/plain": [
       "<Figure size 2000x2000 with 16 Axes>"
      ],
      "image/png": "[encoded data removed]"
     },
     "metadata": {},
     "output_type": "display_data"
    }
   ],
   "execution_count": 36
  },
  {
   "cell_type": "markdown",
   "id": "3339aa530d8bb880",
   "metadata": {},
   "source": [
    "### 6. Comportamiento de valores faltantes\n",
    "Esta celda fue colocada para mantener el orden del notebook, pero el proceso fue registrado en la parte **4.1**"
   ]
  },
  {
   "cell_type": "code",
   "id": "6bd20760ff208222",
   "metadata": {
    "ExecuteTime": {
     "end_time": "2024-07-20T22:49:44.095786Z",
     "start_time": "2024-07-20T22:49:44.082378Z"
    }
   },
   "source": [
    "df.isna().sum()"
   ],
   "outputs": [
    {
     "data": {
      "text/plain": [
       "Age                                   0\n",
       "Number of sexual partners             0\n",
       "First sexual intercourse              0\n",
       "Num of pregnancies                    0\n",
       "Smokes                                0\n",
       "Smokes (years)                        0\n",
       "Smokes (packs/year)                   0\n",
       "Hormonal Contraceptives               0\n",
       "Hormonal Contraceptives (years)       0\n",
       "IUD                                   0\n",
       "IUD (years)                           0\n",
       "STDs                                  0\n",
       "STDs (number)                         0\n",
       "STDs:condylomatosis                   0\n",
       "STDs:vulvo-perineal condylomatosis    0\n",
       "STDs:syphilis                         0\n",
       "STDs:HIV                              0\n",
       "STDs: Number of diagnosis             0\n",
       "Dx:Cancer                             0\n",
       "Dx:CIN                                0\n",
       "Dx:HPV                                0\n",
       "Dx                                    0\n",
       "Hinselmann                            0\n",
       "Schiller                              0\n",
       "Citology                              0\n",
       "Biopsy                                0\n",
       "dtype: int64"
      ]
     },
     "execution_count": 21,
     "metadata": {},
     "output_type": "execute_result"
    }
   ],
   "execution_count": 21
  },
  {
   "cell_type": "markdown",
   "id": "34d96b39",
   "metadata": {},
   "source": [
    "### 7. PCA en variables categóricas\n",
    "El proceso de realización de PCA es posible realizarse con PCA (después de haber transformado las variables categóricas a numéricas). Sin embargo, no es recomendable, pues a este tipo de variables les hace falta la estructura numérica para poder realizar el análisis. Para este tipo de situaciones, es recomendable utilizar el Análisis de Correspondencia Múltiple (MCA).\n",
    "\n",
    "Fuentes: [Villasante, P. & Kebabci, C. (2023)](https://statisticsglobe.com/pca-categorical-variables)"
   ]
  },
  {
   "metadata": {},
   "cell_type": "markdown",
   "source": [
    "### 8. Ejecución de PCA\n",
    "Realizado únicamente con variables numéricas"
   ],
   "id": "cf1f2a994f2e6d7"
  },
  {
   "metadata": {
    "ExecuteTime": {
     "end_time": "2024-07-20T22:49:44.124220Z",
     "start_time": "2024-07-20T22:49:44.098786Z"
    }
   },
   "cell_type": "code",
   "source": "from factor_analyzer.factor_analyzer import calculate_bartlett_sphericity, calculate_kmo",
   "id": "45b91f3b5571a636",
   "outputs": [],
   "execution_count": 22
  },
  {
   "metadata": {
    "ExecuteTime": {
     "end_time": "2024-07-20T22:49:44.131385Z",
     "start_time": "2024-07-20T22:49:44.126229Z"
    }
   },
   "cell_type": "code",
   "source": "numerical_df = df[numerical_columns]",
   "id": "72b986a8c76c0d52",
   "outputs": [],
   "execution_count": 23
  },
  {
   "metadata": {},
   "cell_type": "markdown",
   "source": [
    "#### 8.1. Bartlett's Test\n",
    "H0: La matriz de correlación es una matriz identidad\n",
    "\n",
    "H1: La matriz de correlación no es una matriz identidad"
   ],
   "id": "e3b8b7cddb734745"
  },
  {
   "metadata": {
    "ExecuteTime": {
     "end_time": "2024-07-20T22:49:44.149865Z",
     "start_time": "2024-07-20T22:49:44.133393Z"
    }
   },
   "cell_type": "code",
   "source": [
    "chi_square_value, p_value = calculate_bartlett_sphericity(numerical_df)\n",
    "print(\"Se {} la hipótesis nula. P={}\".format(\n",
    "    ('rechaza' if p_value < 0.05 else 'acepta'), \n",
    "    p_value)\n",
    ")"
   ],
   "id": "911a450cc64d2ec9",
   "outputs": [
    {
     "name": "stdout",
     "output_type": "stream",
     "text": [
      "Se rechaza la hipótesis nula. P=0.0\n"
     ]
    }
   ],
   "execution_count": 24
  },
  {
   "metadata": {},
   "cell_type": "markdown",
   "source": "#### 8.2. Kaiser-Meyer-Olkin Test",
   "id": "c5a897798421696d"
  },
  {
   "metadata": {
    "ExecuteTime": {
     "end_time": "2024-07-20T22:49:44.161560Z",
     "start_time": "2024-07-20T22:49:44.151873Z"
    }
   },
   "cell_type": "code",
   "source": [
    "kmo_all, kmo_model = calculate_kmo(numerical_df)\n",
    "print(\"KMO: {}\".format(kmo_model))"
   ],
   "id": "27e218b07c48872f",
   "outputs": [
    {
     "name": "stdout",
     "output_type": "stream",
     "text": [
      "KMO: 0.5204864291426247\n"
     ]
    }
   ],
   "execution_count": 25
  },
  {
   "metadata": {},
   "cell_type": "markdown",
   "source": "El realizar el PCA con las variables numéricas no representa una mejora significativa en el modelo. ",
   "id": "483bb46121155dde"
  },
  {
   "metadata": {},
   "cell_type": "markdown",
   "source": "#### 8.3 Expliación de la Varianza",
   "id": "687d4ec27d94fdea"
  },
  {
   "metadata": {
    "ExecuteTime": {
     "end_time": "2024-07-20T22:49:44.169871Z",
     "start_time": "2024-07-20T22:49:44.163568Z"
    }
   },
   "cell_type": "code",
   "source": "from sklearn.decomposition import PCA",
   "id": "3585b9b3c9fbf653",
   "outputs": [],
   "execution_count": 26
  },
  {
   "metadata": {
    "ExecuteTime": {
     "end_time": "2024-07-20T22:49:44.188204Z",
     "start_time": "2024-07-20T22:49:44.176878Z"
    }
   },
   "cell_type": "code",
   "source": [
    "pca = PCA()\n",
    "pca.fit(numerical_df)"
   ],
   "id": "6e5ff4e9e5a3fd61",
   "outputs": [
    {
     "data": {
      "text/plain": [
       "PCA()"
      ],
      "text/html": [
       "<style>#sk-container-id-1 {\n",
       "  /* Definition of color scheme common for light and dark mode */\n",
       "  --sklearn-color-text: black;\n",
       "  --sklearn-color-line: gray;\n",
       "  /* Definition of color scheme for unfitted estimators */\n",
       "  --sklearn-color-unfitted-level-0: #fff5e6;\n",
       "  --sklearn-color-unfitted-level-1: #f6e4d2;\n",
       "  --sklearn-color-unfitted-level-2: #ffe0b3;\n",
       "  --sklearn-color-unfitted-level-3: chocolate;\n",
       "  /* Definition of color scheme for fitted estimators */\n",
       "  --sklearn-color-fitted-level-0: #f0f8ff;\n",
       "  --sklearn-color-fitted-level-1: #d4ebff;\n",
       "  --sklearn-color-fitted-level-2: #b3dbfd;\n",
       "  --sklearn-color-fitted-level-3: cornflowerblue;\n",
       "\n",
       "  /* Specific color for light theme */\n",
       "  --sklearn-color-text-on-default-background: var(--sg-text-color, var(--theme-code-foreground, var(--jp-content-font-color1, black)));\n",
       "  --sklearn-color-background: var(--sg-background-color, var(--theme-background, var(--jp-layout-color0, white)));\n",
       "  --sklearn-color-border-box: var(--sg-text-color, var(--theme-code-foreground, var(--jp-content-font-color1, black)));\n",
       "  --sklearn-color-icon: #696969;\n",
       "\n",
       "  @media (prefers-color-scheme: dark) {\n",
       "    /* Redefinition of color scheme for dark theme */\n",
       "    --sklearn-color-text-on-default-background: var(--sg-text-color, var(--theme-code-foreground, var(--jp-content-font-color1, white)));\n",
       "    --sklearn-color-background: var(--sg-background-color, var(--theme-background, var(--jp-layout-color0, #111)));\n",
       "    --sklearn-color-border-box: var(--sg-text-color, var(--theme-code-foreground, var(--jp-content-font-color1, white)));\n",
       "    --sklearn-color-icon: #878787;\n",
       "  }\n",
       "}\n",
       "\n",
       "#sk-container-id-1 {\n",
       "  color: var(--sklearn-color-text);\n",
       "}\n",
       "\n",
       "#sk-container-id-1 pre {\n",
       "  padding: 0;\n",
       "}\n",
       "\n",
       "#sk-container-id-1 input.sk-hidden--visually {\n",
       "  border: 0;\n",
       "  clip: rect(1px 1px 1px 1px);\n",
       "  clip: rect(1px, 1px, 1px, 1px);\n",
       "  height: 1px;\n",
       "  margin: -1px;\n",
       "  overflow: hidden;\n",
       "  padding: 0;\n",
       "  position: absolute;\n",
       "  width: 1px;\n",
       "}\n",
       "\n",
       "#sk-container-id-1 div.sk-dashed-wrapped {\n",
       "  border: 1px dashed var(--sklearn-color-line);\n",
       "  margin: 0 0.4em 0.5em 0.4em;\n",
       "  box-sizing: border-box;\n",
       "  padding-bottom: 0.4em;\n",
       "  background-color: var(--sklearn-color-background);\n",
       "}\n",
       "\n",
       "#sk-container-id-1 div.sk-container {\n",
       "  /* jupyter's `normalize.less` sets `[hidden] { display: none; }`\n",
       "     but bootstrap.min.css set `[hidden] { display: none !important; }`\n",
       "     so we also need the `!important` here to be able to override the\n",
       "     default hidden behavior on the sphinx rendered scikit-learn.org.\n",
       "     See: https://github.com/scikit-learn/scikit-learn/issues/21755 */\n",
       "  display: inline-block !important;\n",
       "  position: relative;\n",
       "}\n",
       "\n",
       "#sk-container-id-1 div.sk-text-repr-fallback {\n",
       "  display: none;\n",
       "}\n",
       "\n",
       "div.sk-parallel-item,\n",
       "div.sk-serial,\n",
       "div.sk-item {\n",
       "  /* draw centered vertical line to link estimators */\n",
       "  background-image: linear-gradient(var(--sklearn-color-text-on-default-background), var(--sklearn-color-text-on-default-background));\n",
       "  background-size: 2px 100%;\n",
       "  background-repeat: no-repeat;\n",
       "  background-position: center center;\n",
       "}\n",
       "\n",
       "/* Parallel-specific style estimator block */\n",
       "\n",
       "#sk-container-id-1 div.sk-parallel-item::after {\n",
       "  content: \"\";\n",
       "  width: 100%;\n",
       "  border-bottom: 2px solid var(--sklearn-color-text-on-default-background);\n",
       "  flex-grow: 1;\n",
       "}\n",
       "\n",
       "#sk-container-id-1 div.sk-parallel {\n",
       "  display: flex;\n",
       "  align-items: stretch;\n",
       "  justify-content: center;\n",
       "  background-color: var(--sklearn-color-background);\n",
       "  position: relative;\n",
       "}\n",
       "\n",
       "#sk-container-id-1 div.sk-parallel-item {\n",
       "  display: flex;\n",
       "  flex-direction: column;\n",
       "}\n",
       "\n",
       "#sk-container-id-1 div.sk-parallel-item:first-child::after {\n",
       "  align-self: flex-end;\n",
       "  width: 50%;\n",
       "}\n",
       "\n",
       "#sk-container-id-1 div.sk-parallel-item:last-child::after {\n",
       "  align-self: flex-start;\n",
       "  width: 50%;\n",
       "}\n",
       "\n",
       "#sk-container-id-1 div.sk-parallel-item:only-child::after {\n",
       "  width: 0;\n",
       "}\n",
       "\n",
       "/* Serial-specific style estimator block */\n",
       "\n",
       "#sk-container-id-1 div.sk-serial {\n",
       "  display: flex;\n",
       "  flex-direction: column;\n",
       "  align-items: center;\n",
       "  background-color: var(--sklearn-color-background);\n",
       "  padding-right: 1em;\n",
       "  padding-left: 1em;\n",
       "}\n",
       "\n",
       "\n",
       "/* Toggleable style: style used for estimator/Pipeline/ColumnTransformer box that is\n",
       "clickable and can be expanded/collapsed.\n",
       "- Pipeline and ColumnTransformer use this feature and define the default style\n",
       "- Estimators will overwrite some part of the style using the `sk-estimator` class\n",
       "*/\n",
       "\n",
       "/* Pipeline and ColumnTransformer style (default) */\n",
       "\n",
       "#sk-container-id-1 div.sk-toggleable {\n",
       "  /* Default theme specific background. It is overwritten whether we have a\n",
       "  specific estimator or a Pipeline/ColumnTransformer */\n",
       "  background-color: var(--sklearn-color-background);\n",
       "}\n",
       "\n",
       "/* Toggleable label */\n",
       "#sk-container-id-1 label.sk-toggleable__label {\n",
       "  cursor: pointer;\n",
       "  display: block;\n",
       "  width: 100%;\n",
       "  margin-bottom: 0;\n",
       "  padding: 0.5em;\n",
       "  box-sizing: border-box;\n",
       "  text-align: center;\n",
       "}\n",
       "\n",
       "#sk-container-id-1 label.sk-toggleable__label-arrow:before {\n",
       "  /* Arrow on the left of the label */\n",
       "  content: \"▸\";\n",
       "  float: left;\n",
       "  margin-right: 0.25em;\n",
       "  color: var(--sklearn-color-icon);\n",
       "}\n",
       "\n",
       "#sk-container-id-1 label.sk-toggleable__label-arrow:hover:before {\n",
       "  color: var(--sklearn-color-text);\n",
       "}\n",
       "\n",
       "/* Toggleable content - dropdown */\n",
       "\n",
       "#sk-container-id-1 div.sk-toggleable__content {\n",
       "  max-height: 0;\n",
       "  max-width: 0;\n",
       "  overflow: hidden;\n",
       "  text-align: left;\n",
       "  /* unfitted */\n",
       "  background-color: var(--sklearn-color-unfitted-level-0);\n",
       "}\n",
       "\n",
       "#sk-container-id-1 div.sk-toggleable__content.fitted {\n",
       "  /* fitted */\n",
       "  background-color: var(--sklearn-color-fitted-level-0);\n",
       "}\n",
       "\n",
       "#sk-container-id-1 div.sk-toggleable__content pre {\n",
       "  margin: 0.2em;\n",
       "  border-radius: 0.25em;\n",
       "  color: var(--sklearn-color-text);\n",
       "  /* unfitted */\n",
       "  background-color: var(--sklearn-color-unfitted-level-0);\n",
       "}\n",
       "\n",
       "#sk-container-id-1 div.sk-toggleable__content.fitted pre {\n",
       "  /* unfitted */\n",
       "  background-color: var(--sklearn-color-fitted-level-0);\n",
       "}\n",
       "\n",
       "#sk-container-id-1 input.sk-toggleable__control:checked~div.sk-toggleable__content {\n",
       "  /* Expand drop-down */\n",
       "  max-height: 200px;\n",
       "  max-width: 100%;\n",
       "  overflow: auto;\n",
       "}\n",
       "\n",
       "#sk-container-id-1 input.sk-toggleable__control:checked~label.sk-toggleable__label-arrow:before {\n",
       "  content: \"▾\";\n",
       "}\n",
       "\n",
       "/* Pipeline/ColumnTransformer-specific style */\n",
       "\n",
       "#sk-container-id-1 div.sk-label input.sk-toggleable__control:checked~label.sk-toggleable__label {\n",
       "  color: var(--sklearn-color-text);\n",
       "  background-color: var(--sklearn-color-unfitted-level-2);\n",
       "}\n",
       "\n",
       "#sk-container-id-1 div.sk-label.fitted input.sk-toggleable__control:checked~label.sk-toggleable__label {\n",
       "  background-color: var(--sklearn-color-fitted-level-2);\n",
       "}\n",
       "\n",
       "/* Estimator-specific style */\n",
       "\n",
       "/* Colorize estimator box */\n",
       "#sk-container-id-1 div.sk-estimator input.sk-toggleable__control:checked~label.sk-toggleable__label {\n",
       "  /* unfitted */\n",
       "  background-color: var(--sklearn-color-unfitted-level-2);\n",
       "}\n",
       "\n",
       "#sk-container-id-1 div.sk-estimator.fitted input.sk-toggleable__control:checked~label.sk-toggleable__label {\n",
       "  /* fitted */\n",
       "  background-color: var(--sklearn-color-fitted-level-2);\n",
       "}\n",
       "\n",
       "#sk-container-id-1 div.sk-label label.sk-toggleable__label,\n",
       "#sk-container-id-1 div.sk-label label {\n",
       "  /* The background is the default theme color */\n",
       "  color: var(--sklearn-color-text-on-default-background);\n",
       "}\n",
       "\n",
       "/* On hover, darken the color of the background */\n",
       "#sk-container-id-1 div.sk-label:hover label.sk-toggleable__label {\n",
       "  color: var(--sklearn-color-text);\n",
       "  background-color: var(--sklearn-color-unfitted-level-2);\n",
       "}\n",
       "\n",
       "/* Label box, darken color on hover, fitted */\n",
       "#sk-container-id-1 div.sk-label.fitted:hover label.sk-toggleable__label.fitted {\n",
       "  color: var(--sklearn-color-text);\n",
       "  background-color: var(--sklearn-color-fitted-level-2);\n",
       "}\n",
       "\n",
       "/* Estimator label */\n",
       "\n",
       "#sk-container-id-1 div.sk-label label {\n",
       "  font-family: monospace;\n",
       "  font-weight: bold;\n",
       "  display: inline-block;\n",
       "  line-height: 1.2em;\n",
       "}\n",
       "\n",
       "#sk-container-id-1 div.sk-label-container {\n",
       "  text-align: center;\n",
       "}\n",
       "\n",
       "/* Estimator-specific */\n",
       "#sk-container-id-1 div.sk-estimator {\n",
       "  font-family: monospace;\n",
       "  border: 1px dotted var(--sklearn-color-border-box);\n",
       "  border-radius: 0.25em;\n",
       "  box-sizing: border-box;\n",
       "  margin-bottom: 0.5em;\n",
       "  /* unfitted */\n",
       "  background-color: var(--sklearn-color-unfitted-level-0);\n",
       "}\n",
       "\n",
       "#sk-container-id-1 div.sk-estimator.fitted {\n",
       "  /* fitted */\n",
       "  background-color: var(--sklearn-color-fitted-level-0);\n",
       "}\n",
       "\n",
       "/* on hover */\n",
       "#sk-container-id-1 div.sk-estimator:hover {\n",
       "  /* unfitted */\n",
       "  background-color: var(--sklearn-color-unfitted-level-2);\n",
       "}\n",
       "\n",
       "#sk-container-id-1 div.sk-estimator.fitted:hover {\n",
       "  /* fitted */\n",
       "  background-color: var(--sklearn-color-fitted-level-2);\n",
       "}\n",
       "\n",
       "/* Specification for estimator info (e.g. \"i\" and \"?\") */\n",
       "\n",
       "/* Common style for \"i\" and \"?\" */\n",
       "\n",
       ".sk-estimator-doc-link,\n",
       "a:link.sk-estimator-doc-link,\n",
       "a:visited.sk-estimator-doc-link {\n",
       "  float: right;\n",
       "  font-size: smaller;\n",
       "  line-height: 1em;\n",
       "  font-family: monospace;\n",
       "  background-color: var(--sklearn-color-background);\n",
       "  border-radius: 1em;\n",
       "  height: 1em;\n",
       "  width: 1em;\n",
       "  text-decoration: none !important;\n",
       "  margin-left: 1ex;\n",
       "  /* unfitted */\n",
       "  border: var(--sklearn-color-unfitted-level-1) 1pt solid;\n",
       "  color: var(--sklearn-color-unfitted-level-1);\n",
       "}\n",
       "\n",
       ".sk-estimator-doc-link.fitted,\n",
       "a:link.sk-estimator-doc-link.fitted,\n",
       "a:visited.sk-estimator-doc-link.fitted {\n",
       "  /* fitted */\n",
       "  border: var(--sklearn-color-fitted-level-1) 1pt solid;\n",
       "  color: var(--sklearn-color-fitted-level-1);\n",
       "}\n",
       "\n",
       "/* On hover */\n",
       "div.sk-estimator:hover .sk-estimator-doc-link:hover,\n",
       ".sk-estimator-doc-link:hover,\n",
       "div.sk-label-container:hover .sk-estimator-doc-link:hover,\n",
       ".sk-estimator-doc-link:hover {\n",
       "  /* unfitted */\n",
       "  background-color: var(--sklearn-color-unfitted-level-3);\n",
       "  color: var(--sklearn-color-background);\n",
       "  text-decoration: none;\n",
       "}\n",
       "\n",
       "div.sk-estimator.fitted:hover .sk-estimator-doc-link.fitted:hover,\n",
       ".sk-estimator-doc-link.fitted:hover,\n",
       "div.sk-label-container:hover .sk-estimator-doc-link.fitted:hover,\n",
       ".sk-estimator-doc-link.fitted:hover {\n",
       "  /* fitted */\n",
       "  background-color: var(--sklearn-color-fitted-level-3);\n",
       "  color: var(--sklearn-color-background);\n",
       "  text-decoration: none;\n",
       "}\n",
       "\n",
       "/* Span, style for the box shown on hovering the info icon */\n",
       ".sk-estimator-doc-link span {\n",
       "  display: none;\n",
       "  z-index: 9999;\n",
       "  position: relative;\n",
       "  font-weight: normal;\n",
       "  right: .2ex;\n",
       "  padding: .5ex;\n",
       "  margin: .5ex;\n",
       "  width: min-content;\n",
       "  min-width: 20ex;\n",
       "  max-width: 50ex;\n",
       "  color: var(--sklearn-color-text);\n",
       "  box-shadow: 2pt 2pt 4pt #999;\n",
       "  /* unfitted */\n",
       "  background: var(--sklearn-color-unfitted-level-0);\n",
       "  border: .5pt solid var(--sklearn-color-unfitted-level-3);\n",
       "}\n",
       "\n",
       ".sk-estimator-doc-link.fitted span {\n",
       "  /* fitted */\n",
       "  background: var(--sklearn-color-fitted-level-0);\n",
       "  border: var(--sklearn-color-fitted-level-3);\n",
       "}\n",
       "\n",
       ".sk-estimator-doc-link:hover span {\n",
       "  display: block;\n",
       "}\n",
       "\n",
       "/* \"?\"-specific style due to the `<a>` HTML tag */\n",
       "\n",
       "#sk-container-id-1 a.estimator_doc_link {\n",
       "  float: right;\n",
       "  font-size: 1rem;\n",
       "  line-height: 1em;\n",
       "  font-family: monospace;\n",
       "  background-color: var(--sklearn-color-background);\n",
       "  border-radius: 1rem;\n",
       "  height: 1rem;\n",
       "  width: 1rem;\n",
       "  text-decoration: none;\n",
       "  /* unfitted */\n",
       "  color: var(--sklearn-color-unfitted-level-1);\n",
       "  border: var(--sklearn-color-unfitted-level-1) 1pt solid;\n",
       "}\n",
       "\n",
       "#sk-container-id-1 a.estimator_doc_link.fitted {\n",
       "  /* fitted */\n",
       "  border: var(--sklearn-color-fitted-level-1) 1pt solid;\n",
       "  color: var(--sklearn-color-fitted-level-1);\n",
       "}\n",
       "\n",
       "/* On hover */\n",
       "#sk-container-id-1 a.estimator_doc_link:hover {\n",
       "  /* unfitted */\n",
       "  background-color: var(--sklearn-color-unfitted-level-3);\n",
       "  color: var(--sklearn-color-background);\n",
       "  text-decoration: none;\n",
       "}\n",
       "\n",
       "#sk-container-id-1 a.estimator_doc_link.fitted:hover {\n",
       "  /* fitted */\n",
       "  background-color: var(--sklearn-color-fitted-level-3);\n",
       "}\n",
       "</style><div id=\"sk-container-id-1\" class=\"sk-top-container\"><div class=\"sk-text-repr-fallback\"><pre>PCA()</pre><b>In a Jupyter environment, please rerun this cell to show the HTML representation or trust the notebook. <br />On GitHub, the HTML representation is unable to render, please try loading this page with nbviewer.org.</b></div><div class=\"sk-container\" hidden><div class=\"sk-item\"><div class=\"sk-estimator fitted sk-toggleable\"><input class=\"sk-toggleable__control sk-hidden--visually\" id=\"sk-estimator-id-1\" type=\"checkbox\" checked><label for=\"sk-estimator-id-1\" class=\"sk-toggleable__label fitted sk-toggleable__label-arrow fitted\">&nbsp;&nbsp;PCA<a class=\"sk-estimator-doc-link fitted\" rel=\"noreferrer\" target=\"_blank\" href=\"https://scikit-learn.org/1.5/modules/generated/sklearn.decomposition.PCA.html\">?<span>Documentation for PCA</span></a><span class=\"sk-estimator-doc-link fitted\">i<span>Fitted</span></span></label><div class=\"sk-toggleable__content fitted\"><pre>PCA()</pre></div> </div></div></div></div>"
      ]
     },
     "execution_count": 27,
     "metadata": {},
     "output_type": "execute_result"
    }
   ],
   "execution_count": 27
  },
  {
   "metadata": {
    "ExecuteTime": {
     "end_time": "2024-07-20T22:49:44.357816Z",
     "start_time": "2024-07-20T22:49:44.189202Z"
    }
   },
   "cell_type": "code",
   "source": [
    "plt.plot(np.cumsum(pca.explained_variance_ratio_))\n",
    "plt.xlabel('Número de componentes')\n",
    "plt.ylabel('Varianza acumulada')\n",
    "plt.show()"
   ],
   "id": "122a39acf322bc22",
   "outputs": [
    {
     "data": {
      "text/plain": [
       "<Figure size 640x480 with 1 Axes>"
      ],
      "image/png": "[encoded data removed]"
     },
     "metadata": {},
     "output_type": "display_data"
    }
   ],
   "execution_count": 28
  },
  {
   "metadata": {},
   "cell_type": "markdown",
   "source": "La cantidad de componentes óptimos sin perder mucha varianza es de 4.",
   "id": "13d8fd43c0d4d8a5"
  },
  {
   "metadata": {},
   "cell_type": "markdown",
   "source": "#### 8.4 Análisis de Componentes Principales",
   "id": "e35f435010d83103"
  },
  {
   "metadata": {
    "ExecuteTime": {
     "end_time": "2024-07-20T22:49:44.368829Z",
     "start_time": "2024-07-20T22:49:44.359814Z"
    }
   },
   "cell_type": "code",
   "source": [
    "pca = PCA(n_components=4)\n",
    "pca.fit(numerical_df)"
   ],
   "id": "18e22fdc511656",
   "outputs": [
    {
     "data": {
      "text/plain": [
       "PCA(n_components=4)"
      ],
      "text/html": [
       "<style>#sk-container-id-2 {\n",
       "  /* Definition of color scheme common for light and dark mode */\n",
       "  --sklearn-color-text: black;\n",
       "  --sklearn-color-line: gray;\n",
       "  /* Definition of color scheme for unfitted estimators */\n",
       "  --sklearn-color-unfitted-level-0: #fff5e6;\n",
       "  --sklearn-color-unfitted-level-1: #f6e4d2;\n",
       "  --sklearn-color-unfitted-level-2: #ffe0b3;\n",
       "  --sklearn-color-unfitted-level-3: chocolate;\n",
       "  /* Definition of color scheme for fitted estimators */\n",
       "  --sklearn-color-fitted-level-0: #f0f8ff;\n",
       "  --sklearn-color-fitted-level-1: #d4ebff;\n",
       "  --sklearn-color-fitted-level-2: #b3dbfd;\n",
       "  --sklearn-color-fitted-level-3: cornflowerblue;\n",
       "\n",
       "  /* Specific color for light theme */\n",
       "  --sklearn-color-text-on-default-background: var(--sg-text-color, var(--theme-code-foreground, var(--jp-content-font-color1, black)));\n",
       "  --sklearn-color-background: var(--sg-background-color, var(--theme-background, var(--jp-layout-color0, white)));\n",
       "  --sklearn-color-border-box: var(--sg-text-color, var(--theme-code-foreground, var(--jp-content-font-color1, black)));\n",
       "  --sklearn-color-icon: #696969;\n",
       "\n",
       "  @media (prefers-color-scheme: dark) {\n",
       "    /* Redefinition of color scheme for dark theme */\n",
       "    --sklearn-color-text-on-default-background: var(--sg-text-color, var(--theme-code-foreground, var(--jp-content-font-color1, white)));\n",
       "    --sklearn-color-background: var(--sg-background-color, var(--theme-background, var(--jp-layout-color0, #111)));\n",
       "    --sklearn-color-border-box: var(--sg-text-color, var(--theme-code-foreground, var(--jp-content-font-color1, white)));\n",
       "    --sklearn-color-icon: #878787;\n",
       "  }\n",
       "}\n",
       "\n",
       "#sk-container-id-2 {\n",
       "  color: var(--sklearn-color-text);\n",
       "}\n",
       "\n",
       "#sk-container-id-2 pre {\n",
       "  padding: 0;\n",
       "}\n",
       "\n",
       "#sk-container-id-2 input.sk-hidden--visually {\n",
       "  border: 0;\n",
       "  clip: rect(1px 1px 1px 1px);\n",
       "  clip: rect(1px, 1px, 1px, 1px);\n",
       "  height: 1px;\n",
       "  margin: -1px;\n",
       "  overflow: hidden;\n",
       "  padding: 0;\n",
       "  position: absolute;\n",
       "  width: 1px;\n",
       "}\n",
       "\n",
       "#sk-container-id-2 div.sk-dashed-wrapped {\n",
       "  border: 1px dashed var(--sklearn-color-line);\n",
       "  margin: 0 0.4em 0.5em 0.4em;\n",
       "  box-sizing: border-box;\n",
       "  padding-bottom: 0.4em;\n",
       "  background-color: var(--sklearn-color-background);\n",
       "}\n",
       "\n",
       "#sk-container-id-2 div.sk-container {\n",
       "  /* jupyter's `normalize.less` sets `[hidden] { display: none; }`\n",
       "     but bootstrap.min.css set `[hidden] { display: none !important; }`\n",
       "     so we also need the `!important` here to be able to override the\n",
       "     default hidden behavior on the sphinx rendered scikit-learn.org.\n",
       "     See: https://github.com/scikit-learn/scikit-learn/issues/21755 */\n",
       "  display: inline-block !important;\n",
       "  position: relative;\n",
       "}\n",
       "\n",
       "#sk-container-id-2 div.sk-text-repr-fallback {\n",
       "  display: none;\n",
       "}\n",
       "\n",
       "div.sk-parallel-item,\n",
       "div.sk-serial,\n",
       "div.sk-item {\n",
       "  /* draw centered vertical line to link estimators */\n",
       "  background-image: linear-gradient(var(--sklearn-color-text-on-default-background), var(--sklearn-color-text-on-default-background));\n",
       "  background-size: 2px 100%;\n",
       "  background-repeat: no-repeat;\n",
       "  background-position: center center;\n",
       "}\n",
       "\n",
       "/* Parallel-specific style estimator block */\n",
       "\n",
       "#sk-container-id-2 div.sk-parallel-item::after {\n",
       "  content: \"\";\n",
       "  width: 100%;\n",
       "  border-bottom: 2px solid var(--sklearn-color-text-on-default-background);\n",
       "  flex-grow: 1;\n",
       "}\n",
       "\n",
       "#sk-container-id-2 div.sk-parallel {\n",
       "  display: flex;\n",
       "  align-items: stretch;\n",
       "  justify-content: center;\n",
       "  background-color: var(--sklearn-color-background);\n",
       "  position: relative;\n",
       "}\n",
       "\n",
       "#sk-container-id-2 div.sk-parallel-item {\n",
       "  display: flex;\n",
       "  flex-direction: column;\n",
       "}\n",
       "\n",
       "#sk-container-id-2 div.sk-parallel-item:first-child::after {\n",
       "  align-self: flex-end;\n",
       "  width: 50%;\n",
       "}\n",
       "\n",
       "#sk-container-id-2 div.sk-parallel-item:last-child::after {\n",
       "  align-self: flex-start;\n",
       "  width: 50%;\n",
       "}\n",
       "\n",
       "#sk-container-id-2 div.sk-parallel-item:only-child::after {\n",
       "  width: 0;\n",
       "}\n",
       "\n",
       "/* Serial-specific style estimator block */\n",
       "\n",
       "#sk-container-id-2 div.sk-serial {\n",
       "  display: flex;\n",
       "  flex-direction: column;\n",
       "  align-items: center;\n",
       "  background-color: var(--sklearn-color-background);\n",
       "  padding-right: 1em;\n",
       "  padding-left: 1em;\n",
       "}\n",
       "\n",
       "\n",
       "/* Toggleable style: style used for estimator/Pipeline/ColumnTransformer box that is\n",
       "clickable and can be expanded/collapsed.\n",
       "- Pipeline and ColumnTransformer use this feature and define the default style\n",
       "- Estimators will overwrite some part of the style using the `sk-estimator` class\n",
       "*/\n",
       "\n",
       "/* Pipeline and ColumnTransformer style (default) */\n",
       "\n",
       "#sk-container-id-2 div.sk-toggleable {\n",
       "  /* Default theme specific background. It is overwritten whether we have a\n",
       "  specific estimator or a Pipeline/ColumnTransformer */\n",
       "  background-color: var(--sklearn-color-background);\n",
       "}\n",
       "\n",
       "/* Toggleable label */\n",
       "#sk-container-id-2 label.sk-toggleable__label {\n",
       "  cursor: pointer;\n",
       "  display: block;\n",
       "  width: 100%;\n",
       "  margin-bottom: 0;\n",
       "  padding: 0.5em;\n",
       "  box-sizing: border-box;\n",
       "  text-align: center;\n",
       "}\n",
       "\n",
       "#sk-container-id-2 label.sk-toggleable__label-arrow:before {\n",
       "  /* Arrow on the left of the label */\n",
       "  content: \"▸\";\n",
       "  float: left;\n",
       "  margin-right: 0.25em;\n",
       "  color: var(--sklearn-color-icon);\n",
       "}\n",
       "\n",
       "#sk-container-id-2 label.sk-toggleable__label-arrow:hover:before {\n",
       "  color: var(--sklearn-color-text);\n",
       "}\n",
       "\n",
       "/* Toggleable content - dropdown */\n",
       "\n",
       "#sk-container-id-2 div.sk-toggleable__content {\n",
       "  max-height: 0;\n",
       "  max-width: 0;\n",
       "  overflow: hidden;\n",
       "  text-align: left;\n",
       "  /* unfitted */\n",
       "  background-color: var(--sklearn-color-unfitted-level-0);\n",
       "}\n",
       "\n",
       "#sk-container-id-2 div.sk-toggleable__content.fitted {\n",
       "  /* fitted */\n",
       "  background-color: var(--sklearn-color-fitted-level-0);\n",
       "}\n",
       "\n",
       "#sk-container-id-2 div.sk-toggleable__content pre {\n",
       "  margin: 0.2em;\n",
       "  border-radius: 0.25em;\n",
       "  color: var(--sklearn-color-text);\n",
       "  /* unfitted */\n",
       "  background-color: var(--sklearn-color-unfitted-level-0);\n",
       "}\n",
       "\n",
       "#sk-container-id-2 div.sk-toggleable__content.fitted pre {\n",
       "  /* unfitted */\n",
       "  background-color: var(--sklearn-color-fitted-level-0);\n",
       "}\n",
       "\n",
       "#sk-container-id-2 input.sk-toggleable__control:checked~div.sk-toggleable__content {\n",
       "  /* Expand drop-down */\n",
       "  max-height: 200px;\n",
       "  max-width: 100%;\n",
       "  overflow: auto;\n",
       "}\n",
       "\n",
       "#sk-container-id-2 input.sk-toggleable__control:checked~label.sk-toggleable__label-arrow:before {\n",
       "  content: \"▾\";\n",
       "}\n",
       "\n",
       "/* Pipeline/ColumnTransformer-specific style */\n",
       "\n",
       "#sk-container-id-2 div.sk-label input.sk-toggleable__control:checked~label.sk-toggleable__label {\n",
       "  color: var(--sklearn-color-text);\n",
       "  background-color: var(--sklearn-color-unfitted-level-2);\n",
       "}\n",
       "\n",
       "#sk-container-id-2 div.sk-label.fitted input.sk-toggleable__control:checked~label.sk-toggleable__label {\n",
       "  background-color: var(--sklearn-color-fitted-level-2);\n",
       "}\n",
       "\n",
       "/* Estimator-specific style */\n",
       "\n",
       "/* Colorize estimator box */\n",
       "#sk-container-id-2 div.sk-estimator input.sk-toggleable__control:checked~label.sk-toggleable__label {\n",
       "  /* unfitted */\n",
       "  background-color: var(--sklearn-color-unfitted-level-2);\n",
       "}\n",
       "\n",
       "#sk-container-id-2 div.sk-estimator.fitted input.sk-toggleable__control:checked~label.sk-toggleable__label {\n",
       "  /* fitted */\n",
       "  background-color: var(--sklearn-color-fitted-level-2);\n",
       "}\n",
       "\n",
       "#sk-container-id-2 div.sk-label label.sk-toggleable__label,\n",
       "#sk-container-id-2 div.sk-label label {\n",
       "  /* The background is the default theme color */\n",
       "  color: var(--sklearn-color-text-on-default-background);\n",
       "}\n",
       "\n",
       "/* On hover, darken the color of the background */\n",
       "#sk-container-id-2 div.sk-label:hover label.sk-toggleable__label {\n",
       "  color: var(--sklearn-color-text);\n",
       "  background-color: var(--sklearn-color-unfitted-level-2);\n",
       "}\n",
       "\n",
       "/* Label box, darken color on hover, fitted */\n",
       "#sk-container-id-2 div.sk-label.fitted:hover label.sk-toggleable__label.fitted {\n",
       "  color: var(--sklearn-color-text);\n",
       "  background-color: var(--sklearn-color-fitted-level-2);\n",
       "}\n",
       "\n",
       "/* Estimator label */\n",
       "\n",
       "#sk-container-id-2 div.sk-label label {\n",
       "  font-family: monospace;\n",
       "  font-weight: bold;\n",
       "  display: inline-block;\n",
       "  line-height: 1.2em;\n",
       "}\n",
       "\n",
       "#sk-container-id-2 div.sk-label-container {\n",
       "  text-align: center;\n",
       "}\n",
       "\n",
       "/* Estimator-specific */\n",
       "#sk-container-id-2 div.sk-estimator {\n",
       "  font-family: monospace;\n",
       "  border: 1px dotted var(--sklearn-color-border-box);\n",
       "  border-radius: 0.25em;\n",
       "  box-sizing: border-box;\n",
       "  margin-bottom: 0.5em;\n",
       "  /* unfitted */\n",
       "  background-color: var(--sklearn-color-unfitted-level-0);\n",
       "}\n",
       "\n",
       "#sk-container-id-2 div.sk-estimator.fitted {\n",
       "  /* fitted */\n",
       "  background-color: var(--sklearn-color-fitted-level-0);\n",
       "}\n",
       "\n",
       "/* on hover */\n",
       "#sk-container-id-2 div.sk-estimator:hover {\n",
       "  /* unfitted */\n",
       "  background-color: var(--sklearn-color-unfitted-level-2);\n",
       "}\n",
       "\n",
       "#sk-container-id-2 div.sk-estimator.fitted:hover {\n",
       "  /* fitted */\n",
       "  background-color: var(--sklearn-color-fitted-level-2);\n",
       "}\n",
       "\n",
       "/* Specification for estimator info (e.g. \"i\" and \"?\") */\n",
       "\n",
       "/* Common style for \"i\" and \"?\" */\n",
       "\n",
       ".sk-estimator-doc-link,\n",
       "a:link.sk-estimator-doc-link,\n",
       "a:visited.sk-estimator-doc-link {\n",
       "  float: right;\n",
       "  font-size: smaller;\n",
       "  line-height: 1em;\n",
       "  font-family: monospace;\n",
       "  background-color: var(--sklearn-color-background);\n",
       "  border-radius: 1em;\n",
       "  height: 1em;\n",
       "  width: 1em;\n",
       "  text-decoration: none !important;\n",
       "  margin-left: 1ex;\n",
       "  /* unfitted */\n",
       "  border: var(--sklearn-color-unfitted-level-1) 1pt solid;\n",
       "  color: var(--sklearn-color-unfitted-level-1);\n",
       "}\n",
       "\n",
       ".sk-estimator-doc-link.fitted,\n",
       "a:link.sk-estimator-doc-link.fitted,\n",
       "a:visited.sk-estimator-doc-link.fitted {\n",
       "  /* fitted */\n",
       "  border: var(--sklearn-color-fitted-level-1) 1pt solid;\n",
       "  color: var(--sklearn-color-fitted-level-1);\n",
       "}\n",
       "\n",
       "/* On hover */\n",
       "div.sk-estimator:hover .sk-estimator-doc-link:hover,\n",
       ".sk-estimator-doc-link:hover,\n",
       "div.sk-label-container:hover .sk-estimator-doc-link:hover,\n",
       ".sk-estimator-doc-link:hover {\n",
       "  /* unfitted */\n",
       "  background-color: var(--sklearn-color-unfitted-level-3);\n",
       "  color: var(--sklearn-color-background);\n",
       "  text-decoration: none;\n",
       "}\n",
       "\n",
       "div.sk-estimator.fitted:hover .sk-estimator-doc-link.fitted:hover,\n",
       ".sk-estimator-doc-link.fitted:hover,\n",
       "div.sk-label-container:hover .sk-estimator-doc-link.fitted:hover,\n",
       ".sk-estimator-doc-link.fitted:hover {\n",
       "  /* fitted */\n",
       "  background-color: var(--sklearn-color-fitted-level-3);\n",
       "  color: var(--sklearn-color-background);\n",
       "  text-decoration: none;\n",
       "}\n",
       "\n",
       "/* Span, style for the box shown on hovering the info icon */\n",
       ".sk-estimator-doc-link span {\n",
       "  display: none;\n",
       "  z-index: 9999;\n",
       "  position: relative;\n",
       "  font-weight: normal;\n",
       "  right: .2ex;\n",
       "  padding: .5ex;\n",
       "  margin: .5ex;\n",
       "  width: min-content;\n",
       "  min-width: 20ex;\n",
       "  max-width: 50ex;\n",
       "  color: var(--sklearn-color-text);\n",
       "  box-shadow: 2pt 2pt 4pt #999;\n",
       "  /* unfitted */\n",
       "  background: var(--sklearn-color-unfitted-level-0);\n",
       "  border: .5pt solid var(--sklearn-color-unfitted-level-3);\n",
       "}\n",
       "\n",
       ".sk-estimator-doc-link.fitted span {\n",
       "  /* fitted */\n",
       "  background: var(--sklearn-color-fitted-level-0);\n",
       "  border: var(--sklearn-color-fitted-level-3);\n",
       "}\n",
       "\n",
       ".sk-estimator-doc-link:hover span {\n",
       "  display: block;\n",
       "}\n",
       "\n",
       "/* \"?\"-specific style due to the `<a>` HTML tag */\n",
       "\n",
       "#sk-container-id-2 a.estimator_doc_link {\n",
       "  float: right;\n",
       "  font-size: 1rem;\n",
       "  line-height: 1em;\n",
       "  font-family: monospace;\n",
       "  background-color: var(--sklearn-color-background);\n",
       "  border-radius: 1rem;\n",
       "  height: 1rem;\n",
       "  width: 1rem;\n",
       "  text-decoration: none;\n",
       "  /* unfitted */\n",
       "  color: var(--sklearn-color-unfitted-level-1);\n",
       "  border: var(--sklearn-color-unfitted-level-1) 1pt solid;\n",
       "}\n",
       "\n",
       "#sk-container-id-2 a.estimator_doc_link.fitted {\n",
       "  /* fitted */\n",
       "  border: var(--sklearn-color-fitted-level-1) 1pt solid;\n",
       "  color: var(--sklearn-color-fitted-level-1);\n",
       "}\n",
       "\n",
       "/* On hover */\n",
       "#sk-container-id-2 a.estimator_doc_link:hover {\n",
       "  /* unfitted */\n",
       "  background-color: var(--sklearn-color-unfitted-level-3);\n",
       "  color: var(--sklearn-color-background);\n",
       "  text-decoration: none;\n",
       "}\n",
       "\n",
       "#sk-container-id-2 a.estimator_doc_link.fitted:hover {\n",
       "  /* fitted */\n",
       "  background-color: var(--sklearn-color-fitted-level-3);\n",
       "}\n",
       "</style><div id=\"sk-container-id-2\" class=\"sk-top-container\"><div class=\"sk-text-repr-fallback\"><pre>PCA(n_components=4)</pre><b>In a Jupyter environment, please rerun this cell to show the HTML representation or trust the notebook. <br />On GitHub, the HTML representation is unable to render, please try loading this page with nbviewer.org.</b></div><div class=\"sk-container\" hidden><div class=\"sk-item\"><div class=\"sk-estimator fitted sk-toggleable\"><input class=\"sk-toggleable__control sk-hidden--visually\" id=\"sk-estimator-id-2\" type=\"checkbox\" checked><label for=\"sk-estimator-id-2\" class=\"sk-toggleable__label fitted sk-toggleable__label-arrow fitted\">&nbsp;&nbsp;PCA<a class=\"sk-estimator-doc-link fitted\" rel=\"noreferrer\" target=\"_blank\" href=\"https://scikit-learn.org/1.5/modules/generated/sklearn.decomposition.PCA.html\">?<span>Documentation for PCA</span></a><span class=\"sk-estimator-doc-link fitted\">i<span>Fitted</span></span></label><div class=\"sk-toggleable__content fitted\"><pre>PCA(n_components=4)</pre></div> </div></div></div></div>"
      ]
     },
     "execution_count": 29,
     "metadata": {},
     "output_type": "execute_result"
    }
   ],
   "execution_count": 29
  },
  {
   "metadata": {
    "ExecuteTime": {
     "end_time": "2024-07-20T22:49:44.381717Z",
     "start_time": "2024-07-20T22:49:44.369827Z"
    }
   },
   "cell_type": "code",
   "source": "pca.explained_variance_ratio_.sum()",
   "id": "8559ed9496e99410",
   "outputs": [
    {
     "data": {
      "text/plain": [
       "0.9324439944042101"
      ]
     },
     "execution_count": 30,
     "metadata": {},
     "output_type": "execute_result"
    }
   ],
   "execution_count": 30
  },
  {
   "metadata": {
    "ExecuteTime": {
     "end_time": "2024-07-20T22:49:44.409016Z",
     "start_time": "2024-07-20T22:49:44.396715Z"
    }
   },
   "cell_type": "code",
   "source": "pca.components_",
   "id": "db0741c780946927",
   "outputs": [
    {
     "data": {
      "text/plain": [
       "array([[ 9.55304312e-01,  2.49380131e-02,  9.38762685e-02,\n",
       "         9.70843708e-02,  9.04440298e-02,  3.25277065e-02,\n",
       "         2.37272068e-01,  5.46422137e-02,  2.77218175e-03,\n",
       "         1.99317401e-03],\n",
       "       [-3.96272044e-02,  4.30488652e-02, -6.80685370e-02,\n",
       "         2.40129514e-02,  8.87806444e-01,  3.91890744e-01,\n",
       "        -2.22356073e-01,  9.72948365e-03,  5.64189738e-03,\n",
       "         4.37932501e-03],\n",
       "       [-2.45222138e-01,  1.12704126e-03, -5.48367865e-02,\n",
       "         7.00504257e-03,  1.91185584e-01,  6.89381212e-02,\n",
       "         9.42702480e-01, -8.25307834e-02,  1.34246595e-03,\n",
       "        -1.78866350e-03],\n",
       "       [-7.55848732e-03, -8.57701751e-02,  6.98216817e-01,\n",
       "        -1.67912755e-01,  3.97962894e-02,  4.90694084e-02,\n",
       "        -3.18020783e-02, -6.86935531e-01,  1.00499384e-03,\n",
       "        -7.56131223e-04]])"
      ]
     },
     "execution_count": 32,
     "metadata": {},
     "output_type": "execute_result"
    }
   ],
   "execution_count": 32
  },
  {
   "metadata": {},
   "cell_type": "markdown",
   "source": "**Composición:**",
   "id": "803c0317c8787bd1"
  },
  {
   "metadata": {
    "ExecuteTime": {
     "end_time": "2024-07-20T22:49:44.422465Z",
     "start_time": "2024-07-20T22:49:44.410016Z"
    }
   },
   "cell_type": "code",
   "source": [
    "print(\"PC1 (Age): {}\".format(numerical_columns[0]))\n",
    "print(\"PC2 (Smoking Habits): {}, {}\".format(numerical_columns[4], numerical_columns[5]))\n",
    "print(\"PC3 (Hormonal Contraceptives Usage): {}\".format(numerical_columns[6]))\n",
    "print(\"PC3 (Sexual and Contraceptive History): {}, {}\".format(numerical_columns[2], numerical_columns[7]))"
   ],
   "id": "194192563a7952da",
   "outputs": [
    {
     "name": "stdout",
     "output_type": "stream",
     "text": [
      "PC1 (Age): Age\n",
      "PC2 (Smoking Habits): Smokes (years), Smokes (packs/year)\n",
      "PC3 (Hormonal Contraceptives Usage): Hormonal Contraceptives (years)\n",
      "PC3 (Sexual and Contraceptive History): First sexual intercourse, IUD (years)\n"
     ]
    }
   ],
   "execution_count": 33
  },
  {
   "metadata": {
    "ExecuteTime": {
     "end_time": "2024-07-20T22:49:44.437006Z",
     "start_time": "2024-07-20T22:49:44.423464Z"
    }
   },
   "cell_type": "code",
   "source": "numerical_df_pca = pca.transform(numerical_df)",
   "id": "c307f45a35f22402",
   "outputs": [],
   "execution_count": 34
  },
  {
   "metadata": {
    "ExecuteTime": {
     "end_time": "2024-07-20T22:49:44.458517Z",
     "start_time": "2024-07-20T22:49:44.438518Z"
    }
   },
   "cell_type": "code",
   "source": [
    "numerical_df_pca = pd.DataFrame(numerical_df_pca, columns=['Age', 'Smoking Habits', 'Hormonal Contraceptives Usage', 'Sexual and Contraceptive History'])\n",
    "numerical_df_pca"
   ],
   "id": "e090947c3b7da944",
   "outputs": [
    {
     "data": {
      "text/plain": [
       "           Age  Smoking Habits  Hormonal Contraceptives Usage  \\\n",
       "0    -8.679219       -0.106394                      -0.130907   \n",
       "1   -11.713822       -0.048591                       0.656215   \n",
       "2     6.530836       -0.869576                      -4.057843   \n",
       "3    22.457956       -4.930718                       6.834277   \n",
       "4    17.896902       -1.549766                      -7.001450   \n",
       "..         ...             ...                            ...   \n",
       "656  16.746733       -2.340015                      -1.644739   \n",
       "657   6.765257       -1.011697                      -4.227104   \n",
       "658   6.918847       -2.798396                       3.756001   \n",
       "659  -1.932315       -0.647821                      -1.890979   \n",
       "660   2.367270       -1.079912                      -2.633438   \n",
       "\n",
       "     Sexual and Contraceptive History  \n",
       "0                           -0.686512  \n",
       "1                           -1.104743  \n",
       "2                           -0.550138  \n",
       "3                            2.396152  \n",
       "4                            2.186152  \n",
       "..                                ...  \n",
       "656                          0.111893  \n",
       "657                          1.540885  \n",
       "658                          1.917660  \n",
       "659                          0.993921  \n",
       "660                          2.877068  \n",
       "\n",
       "[661 rows x 4 columns]"
      ],
      "text/html": [
       "<div>\n",
       "<style scoped>\n",
       "    .dataframe tbody tr th:only-of-type {\n",
       "        vertical-align: middle;\n",
       "    }\n",
       "\n",
       "    .dataframe tbody tr th {\n",
       "        vertical-align: top;\n",
       "    }\n",
       "\n",
       "    .dataframe thead th {\n",
       "        text-align: right;\n",
       "    }\n",
       "</style>\n",
       "<table border=\"1\" class=\"dataframe\">\n",
       "  <thead>\n",
       "    <tr style=\"text-align: right;\">\n",
       "      <th></th>\n",
       "      <th>Age</th>\n",
       "      <th>Smoking Habits</th>\n",
       "      <th>Hormonal Contraceptives Usage</th>\n",
       "      <th>Sexual and Contraceptive History</th>\n",
       "    </tr>\n",
       "  </thead>\n",
       "  <tbody>\n",
       "    <tr>\n",
       "      <th>0</th>\n",
       "      <td>-8.679219</td>\n",
       "      <td>-0.106394</td>\n",
       "      <td>-0.130907</td>\n",
       "      <td>-0.686512</td>\n",
       "    </tr>\n",
       "    <tr>\n",
       "      <th>1</th>\n",
       "      <td>-11.713822</td>\n",
       "      <td>-0.048591</td>\n",
       "      <td>0.656215</td>\n",
       "      <td>-1.104743</td>\n",
       "    </tr>\n",
       "    <tr>\n",
       "      <th>2</th>\n",
       "      <td>6.530836</td>\n",
       "      <td>-0.869576</td>\n",
       "      <td>-4.057843</td>\n",
       "      <td>-0.550138</td>\n",
       "    </tr>\n",
       "    <tr>\n",
       "      <th>3</th>\n",
       "      <td>22.457956</td>\n",
       "      <td>-4.930718</td>\n",
       "      <td>6.834277</td>\n",
       "      <td>2.396152</td>\n",
       "    </tr>\n",
       "    <tr>\n",
       "      <th>4</th>\n",
       "      <td>17.896902</td>\n",
       "      <td>-1.549766</td>\n",
       "      <td>-7.001450</td>\n",
       "      <td>2.186152</td>\n",
       "    </tr>\n",
       "    <tr>\n",
       "      <th>...</th>\n",
       "      <td>...</td>\n",
       "      <td>...</td>\n",
       "      <td>...</td>\n",
       "      <td>...</td>\n",
       "    </tr>\n",
       "    <tr>\n",
       "      <th>656</th>\n",
       "      <td>16.746733</td>\n",
       "      <td>-2.340015</td>\n",
       "      <td>-1.644739</td>\n",
       "      <td>0.111893</td>\n",
       "    </tr>\n",
       "    <tr>\n",
       "      <th>657</th>\n",
       "      <td>6.765257</td>\n",
       "      <td>-1.011697</td>\n",
       "      <td>-4.227104</td>\n",
       "      <td>1.540885</td>\n",
       "    </tr>\n",
       "    <tr>\n",
       "      <th>658</th>\n",
       "      <td>6.918847</td>\n",
       "      <td>-2.798396</td>\n",
       "      <td>3.756001</td>\n",
       "      <td>1.917660</td>\n",
       "    </tr>\n",
       "    <tr>\n",
       "      <th>659</th>\n",
       "      <td>-1.932315</td>\n",
       "      <td>-0.647821</td>\n",
       "      <td>-1.890979</td>\n",
       "      <td>0.993921</td>\n",
       "    </tr>\n",
       "    <tr>\n",
       "      <th>660</th>\n",
       "      <td>2.367270</td>\n",
       "      <td>-1.079912</td>\n",
       "      <td>-2.633438</td>\n",
       "      <td>2.877068</td>\n",
       "    </tr>\n",
       "  </tbody>\n",
       "</table>\n",
       "<p>661 rows × 4 columns</p>\n",
       "</div>"
      ]
     },
     "execution_count": 35,
     "metadata": {},
     "output_type": "execute_result"
    }
   ],
   "execution_count": 35
  },
  {
   "metadata": {},
   "cell_type": "markdown",
   "source": [
    "#### 8.5. Análisis de Correlación\n",
    "\n",
    "A pesar de que el KMO indicaba que no representaba una mejora significativa, el realizar el PCA ayudó a reducir la dimensionalidad en las variables numéricas de 10 a 4; perdiendo solamente 0.07 de varianza. Los nuevos componentes son claros con la combinación lineal de estos, dejando en claro la manera en la que afecta la edad (Age), los hábitos del paciente respecto al tabaco (Smoking Habits), el uso de anticonceptivos hormonales (Hormonal Contraceptives Usage), y la historia sexual y de IUD de la paciente."
   ],
   "id": "b9ff8db29d8a2e22"
  }
 ],
 "metadata": {
  "kernelspec": {
   "display_name": "Python 3 (ipykernel)",
   "language": "python",
   "name": "python3"
  },
  "language_info": {
   "codemirror_mode": {
    "name": "ipython",
    "version": 3
   },
   "file_extension": ".py",
   "mimetype": "text/x-python",
   "name": "python",
   "nbconvert_exporter": "python",
   "pygments_lexer": "ipython3",
   "version": "3.12.4"
  }
 },
 "nbformat": 4,
 "nbformat_minor": 5
}
